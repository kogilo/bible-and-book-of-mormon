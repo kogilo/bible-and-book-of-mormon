{
 "cells": [
  {
   "cell_type": "markdown",
   "metadata": {},
   "source": [
    "## Introduction"
   ]
  },
  {
   "cell_type": "markdown",
   "metadata": {},
   "source": [
    "* the origin and purpose of <font color = 'blue'> The Book of Mormon</font>. \n",
    "* address the significance of the book as the <font color = 'blue'>\"keystone of our religion\",</font> and consider the <font color = 'red'>practical applications</font> this book has on modern society.\n",
    "\n"
   ]
  },
  {
   "cell_type": "markdown",
   "metadata": {},
   "source": [
    "## Objectives"
   ]
  },
  {
   "cell_type": "markdown",
   "metadata": {},
   "source": [
    "* `Describe` the importance of the Book of Mormon to the members of the Church.\n",
    "* `Explain` the makeup of the Book of Mormon and the nature of its <font color = 'blue'>abridgment</font> from more extensive records.\n",
    "* `Discuss` the Lord's purposes, the abridger's purposes, and the contents of the Book of Mormon."
   ]
  },
  {
   "cell_type": "markdown",
   "metadata": {},
   "source": [
    "* **In the April 1986 General Conference, President Ezra Taft Benson said:**\n",
    "    *  The Lord inspired His servant Lorenzo Snow to reemphasize the principle of tithing to redeem the Church from financial bondage. In those days the General Authorities took that message to the members of the Church.\n",
    "    *  Now, in our day, the Lord has revealed the need to reemphasize the Book of Mormon to get the Church and all the children of Zion out from under condemnation--the scourge and judgment (D&C 84:54-58). This message must be carried to the members of the Church throughout the world. (Conference Report, April 1986, p. 100)\n",
    "\n"
   ]
  },
  {
   "cell_type": "markdown",
   "metadata": {},
   "source": [
    "## \"The Book of Mormon: A Gift from the Lord\""
   ]
  },
  {
   "cell_type": "markdown",
   "metadata": {},
   "source": [
    "* The following message was given by President Ezra Taft Benson during the October 1986 General Conference.\n",
    "\n",
    "    * My beloved brethren and sisters, today I would like to speak about one of the most significant gifts given to the world in modern times. The gift I am thinking of is more important than any of the inventions that have come out of the industrial and technological revolutions. This is a gift of greater value to mankind than even the many wonderful advances we have seen in modern medicine. It is of greater worth to mankind than the development of flight or space travel. I speak of the gift of the Book of Mormon, given to mankind 156 years ago.\n",
    "\n",
    "    * This gift was prepared by the hand of the Lord over a period of more than a thousand years, then hidden up by Him so that it would be preserved in its purity for our generation. Perhaps there is nothing that testifies more clearly of the importance of this modern book of scripture than what the Lord Himself has said about it.\n",
    "\n"
   ]
  },
  {
   "cell_type": "markdown",
   "metadata": {},
   "source": [
    "### The Lord's Witness of the Book of Mormon\n",
    "* By His own mouth He has borne witness (1) that it is true [D&C 17:6], (2) that it contains the truth and His words [D&C 19:26], (3) that it was translated by power from on high [D&C 20:8], (4) that it contains the fullness of the gospel of Jesus Christ [D&C 20:9, 42:12], (5) that it was given by inspiration and confirmed by the ministering of angels [D&C 20:10], (6) that it gives evidence that the holy scriptures are true [D&C 20:11], and (7) that those who receive it in faith shall receive eternal life [D&C 20:14].\n",
    "\n",
    "* A second powerful testimony to the importance of the Book of Mormon is to note where the Lord placed its coming forth in the timetable of the unfolding Restoration. The only thing that preceded it was the First Vision. In that marvelous manifestation, the Prophet Joseph Smith learned the true nature of God and that God had a work for him to do. The coming forth of the Book of Mormon was the next thing to follow.\n",
    "\n",
    "* Think of that in terms of what it implies. The coming forth of the Book of Mormon preceded the restoration of the priesthood. It was published just a few days before the Church was organized. The Saints were given the Book of Mormon to read before they were given the revelations outlining such great doctrines as the three degrees of glory, celestial marriage, or work for the dead. It came before the priesthood quorums and Church organization. Doesn't this tell us something about how the Lord views this sacred work?\n"
   ]
  },
  {
   "cell_type": "markdown",
   "metadata": {},
   "source": [
    "## The Lord's Warnings\n",
    "* Once we realize how the Lord feels about this book, it should not surprise us that He also gives us solemn warnings about how we receive it. After indicating that those who receive the Book of Mormon with faith, working righteousness, will receive a crown of eternal glory (see D&C 20:14), the Lord follows with this warning: <font color = 'red'>\"But those who harden their hearts in unbelief, and reject it, it shall turn to their own condemnation\" (D&C 20:15)</font>.\n",
    "\n",
    "* In <font color = 'blue'>1829</font>, the Lord warned the Saints that they are not to `trifle` with sacred things (see D&C 6:12). Surely the Book of Mormon is a sacred thing, and yet many trifle with it, or in other words, take it lightly, treat it as though it were of little importance.\n",
    "\n",
    "* In 1832, as some early missionaries returned from their fields of labor, the Lord reproved them for treating the Book of Mormon lightly. As a result of that attitude, he said, <font color = 'blue'>their minds had been darkened</font>. Not only had treating this sacred book lightly brought a loss of light to them, but it had also brought the whole Church under condemnation, even all the children of Zion. And then the Lord said, \"And they shall remain under this condemnation until they repent and remember the new covenant, even the Book of Mormon\" (D&C 84:54-57).\n",
    "\n",
    "* Has the fact that we have had the Book of Mormon with us for over a century and a half made it seem less significant to us today? Do we remember the new covenant, even the Book of Mormon? In the Bible we have the Old Testament and the New Testament. The word testament is the English rendering of a Greek word that can also be translated as covenant. Is this what the Lord meant when He called the Book of Mormon the \"new covenant\"? <font color = 'red'>It is indeed another testament or witness of Jesus</font>. This is one of the reasons why we have recently added the words `Another Testament of Jesus Christ` to the title of the Book of Mormon.\n",
    "\n",
    "* If the early Saints were rebuked for treating the Book of Mormon lightly, are we under any less condemnation if we do the same? The Lord Himself bears testimony that it is of `eternal significance`. Can a small number of us bring the whole Church under condemnation because we trifle with sacred things? What will we say at the Judgment when we stand before Him and meet His probing gaze if we are among those described as forgetting the new covenant?\n",
    "\n",
    "* There are <font color = 'blue'>three great reasons</font> why Latter-day Saints should make the study of the Book of Mormon a lifetime pursuit."
   ]
  },
  {
   "cell_type": "markdown",
   "metadata": {},
   "source": [
    "### Book of Mormon Is the Keystone\n",
    "* The `first` is that the Book of Mormon <font color = 'red'>**is the keystone of our religion**</font>. This was the Prophet Joseph Smith's statement. He testified that <font color = 'blue'>\"the Book of Mormon was the most correct of any book on earth, and the keystone of our religion\" (History of the Church, 4:461)</font>. A keystone is the central stone in an arch. It holds all the other stones in place, and if removed, the arch crumbles.\n",
    "\n",
    "* There are three ways in which the Book of Mormon is the <font color = 'red'>keystone of our religion</font>. \n",
    "    * It is the keystone in <font color = 'blue'>our witness of Christ</font>. \n",
    "    * It is the keystone of <font color = 'blue'>our doctrine</font>. \n",
    "    * It is the keystone of <font color = 'blue'>testimony</font>. \n",
    "    \n",
    "### It is the keystone in <font color = 'blue'>our witness of Christ</font>. \n",
    "* The Book of Mormon is the keystone in our witness of Jesus Christ, who is Himself the cornerstone of everything we do. It bears witness of His reality with power and clarity. Unlike the Bible, which passed through generations of copyists, translators, and corrupt religionists who tampered with the text, the Book of Mormon came from writer to reader in just one inspired step of translation. Therefore, its testimony of the Master is clear, undiluted, and full of power. But it does even more. Much of the Christian world today rejects the divinity of the Savior. They question His miraculous birth, His perfect life, and the reality of His glorious resurrection. The Book of Mormon teaches in plain and unmistakable terms about the truth of all of those. It also provides the most complete explanation of the <font color = 'blue'>doctrine of the Atonement</font>. Truly, this divinely inspired book is a keystone in bearing witness to the world that Jesus is the Christ (see title page of the Book of Mormon).\n",
    "\n",
    "### It is the keystone of <font color = 'blue'>our doctrine</font>.\n",
    "* The Book of Mormon is also the <font color = 'red'>keystone of the doctrine of the Resurrection</font>. As mentioned before, the Lord Himself has stated that the Book of Mormon contains the \"fullness of the gospel of Jesus Christ\" (D&C 20:9). That does not mean it contains every teaching, every doctrine ever revealed. <font color = 'blue'>Rather, it means that in the Book of Mormon we will find the fullness of those doctrines required for our salvation,</font>. And they are taught plainly and simply so that even children can learn the ways of <font color = 'blue'>salvation and exaltation</font>. The Book of Mormon offers so much that broadens our understandings of the doctrines of salvation. Without it, much of what is taught in other scriptures would not be nearly so plain and precious.\n",
    "\n",
    "### It is the keystone of <font color = 'blue'>testimony</font>. \n",
    "* Finally, the Book of Mormon is the <font color = 'red'>keystone of testimony</font>. Just as the arch crumbles if the keystone is removed, so does all the Church stand or fall with the truthfulness of the Book of Mormon. The enemies of the Church understand this clearly. This is why they go to such great lengths to try to disprove the Book of Mormon, for if it can be discredited, the Prophet Joseph Smith goes with it. So does our claim to priesthood keys, and revelation, and the restored Church. But in like manner, if the Book of Mormon is true--and millions have now testified that they have the witness of the Spirit that it is indeed true--then one must accept the claims of the Restoration and all that accompanies it.\n",
    "\n",
    "* Yes, my beloved brothers and sisters, <font color = 'blue'>the Book of Mormon is the keystone of our religion--the keystone of our testimony, the keystone of our doctrine, and the keystone in the witness of our Lord and Savior</font>.\n",
    "\n"
   ]
  },
  {
   "cell_type": "markdown",
   "metadata": {},
   "source": [
    "### Book of Mormon Written for People of Today\n",
    "* The second great reason why we must make the Book of Mormon a center focus of study is that it was written for our day. The `Nephites` never had the book; neither did the `Lamanites` of ancient times. It was meant for us. Mormon wrote near the end of the Nephite civilization. Under the inspiration of God, who sees all things from the beginning, he abridged centuries of records, choosing the stories, speeches, and events that would be most helpful to us.\n",
    "\n",
    "* Each of the major writers of the Book of Mormon testified that he wrote for future generations. Nephi said: <font color = 'blue'>\"The Lord God promised unto me that these things which I write shall be kept and preserved, and handed down unto my seed, from generation to generation\" (2 Nephi 25:21)</font>. His brother Jacob, who succeeded him, wrote similar words: \"For [Nephi] said that the history of his people should be engraven upon his other plates, and that I should preserve these plates and hand them down unto my seed, from generation to generation\" (Jacob 1:3). Enos and Jarom both indicated that they too were writing not for their own peoples but for future generations (see Enos 1:15-16, Jarom 1:2).\n",
    "\n",
    "* Mormon himself said, \"Yea, I speak unto you, ye remnant of the house of Israel\" (Mormon 7:1). And Moroni, the last of the inspired writers, actually saw our day and time. \"Behold,\" he said, \"the Lord hath shown unto me great and marvelous things concerning that which must shortly come, at that day when these things shall come forth among you.\n",
    "\n",
    "* \"Behold, I speak unto you as if ye were present, and yet ye are not. But behold, Jesus Christ hath shown you unto me, and I know your doing\" (Mormon 8:34-35).\n",
    "\n",
    "* If they saw our day and chose those things which would be of greatest worth to us, is not that how we should study the Book of Mormon? We should constantly ask ourselves, \"Why did the Lord inspire Mormon (or Moroni or Alma) to include that in his record? What lesson can I learn from that to help me live in this day and age?\"\n",
    "\n",
    "* And there is example after example of how that question will be answered. For example, in the Book of Mormon we find a pattern for preparing for the Second Coming. A major portion of the book centers on the few decades just prior to Christ's coming to America. By careful study of that time period, we can determine why some were destroyed in the terrible judgments that preceded His coming and what brought others to stand at the temple in the land of Bountiful and thrust their hands into the wounds of His hands and feet.\n",
    "\n",
    "* From the Book of Mormon we learn how disciples of Christ live in times of war. From the Book of Mormon we see the evils of secret combinations portrayed in graphic and chilling reality. In the Book of Mormon we find lessons for dealing with persecution and apostasy. We learn much about how to do missionary work. And more than anywhere else, we see in the Book of Mormon the dangers of materialism and setting our hearts on the things of the world. Can anyone doubt that this book was meant for us and that in it we find great power, great comfort, and great protection?"
   ]
  },
  {
   "cell_type": "code",
   "execution_count": null,
   "metadata": {},
   "outputs": [],
   "source": []
  }
 ],
 "metadata": {
  "kernelspec": {
   "display_name": "Python 3",
   "language": "python",
   "name": "python3"
  },
  "language_info": {
   "codemirror_mode": {
    "name": "ipython",
    "version": 3
   },
   "file_extension": ".py",
   "mimetype": "text/x-python",
   "name": "python",
   "nbconvert_exporter": "python",
   "pygments_lexer": "ipython3",
   "version": "3.7.3"
  }
 },
 "nbformat": 4,
 "nbformat_minor": 2
}
