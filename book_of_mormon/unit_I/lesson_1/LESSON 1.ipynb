{
 "cells": [
  {
   "cell_type": "markdown",
   "metadata": {},
   "source": [
    "## Introduction"
   ]
  },
  {
   "cell_type": "markdown",
   "metadata": {},
   "source": [
    "* the origin and purpose of <font color = 'blue'> The Book of Mormon</font>. \n",
    "* address the significance of the book as the <font color = 'blue'>\"keystone of our religion\",</font> and consider the <font color = 'red'>practical applications</font> this book has on modern society.\n",
    "\n"
   ]
  },
  {
   "cell_type": "markdown",
   "metadata": {},
   "source": [
    "## Objectives"
   ]
  },
  {
   "cell_type": "markdown",
   "metadata": {},
   "source": [
    "* `Describe` the importance of the Book of Mormon to the members of the Church.\n",
    "* `Explain` the makeup of the Book of Mormon and the nature of its <font color = 'blue'>abridgment</font> from more extensive records.\n",
    "* `Discuss` the Lord's purposes, the abridger's purposes, and the contents of the Book of Mormon."
   ]
  },
  {
   "cell_type": "markdown",
   "metadata": {},
   "source": [
    "* **In the April 1986 General Conference, President Ezra Taft Benson said:**\n",
    "    *  The Lord inspired His servant Lorenzo Snow to reemphasize the principle of tithing to redeem the Church from financial bondage. In those days the General Authorities took that message to the members of the Church.\n",
    "    *  Now, in our day, the Lord has revealed the need to reemphasize the Book of Mormon to get the Church and all the children of Zion out from under condemnation--the scourge and judgment (D&C 84:54-58). This message must be carried to the members of the Church throughout the world. (Conference Report, April 1986, p. 100)\n",
    "\n"
   ]
  },
  {
   "cell_type": "markdown",
   "metadata": {},
   "source": [
    "## \"The Book of Mormon: A Gift from the Lord\""
   ]
  },
  {
   "cell_type": "code",
   "execution_count": null,
   "metadata": {},
   "outputs": [],
   "source": []
  }
 ],
 "metadata": {
  "kernelspec": {
   "display_name": "Python 3",
   "language": "python",
   "name": "python3"
  },
  "language_info": {
   "codemirror_mode": {
    "name": "ipython",
    "version": 3
   },
   "file_extension": ".py",
   "mimetype": "text/x-python",
   "name": "python",
   "nbconvert_exporter": "python",
   "pygments_lexer": "ipython3",
   "version": "3.7.3"
  }
 },
 "nbformat": 4,
 "nbformat_minor": 2
}
